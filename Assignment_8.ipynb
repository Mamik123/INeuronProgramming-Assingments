{
 "cells": [
  {
   "cell_type": "code",
   "execution_count": 1,
   "id": "7b0eadc7",
   "metadata": {},
   "outputs": [],
   "source": [
    "#1.\tWrite a Python Program to Add Two Matrices?\n",
    "# 2.Write a Python Program to Multiply Two Matrices?\n",
    "# 3.Write a Python Program to Transpose a Matrix?\n",
    "# 4.Write a Python Program to Sort Words in Alphabetic Order?\n",
    "# 5.Write a Python Program to Remove Punctuation From a String?"
   ]
  },
  {
   "cell_type": "code",
   "execution_count": 15,
   "id": "61d5523c",
   "metadata": {},
   "outputs": [
    {
     "name": "stdout",
     "output_type": "stream",
     "text": [
      "[[ 4  6]\n",
      " [11 13]]\n"
     ]
    }
   ],
   "source": [
    "#1.\tWrite a Python Program to Add Two Matrices?\n",
    "\n",
    "import numpy as np\n",
    "\n",
    "m1 = np.array([[1,2],[4,5]])\n",
    "\n",
    "m2 = np.array([[3,4],[7,8]])\n",
    "\n",
    "print(m1+m2)\n",
    "\n"
   ]
  },
  {
   "cell_type": "code",
   "execution_count": 16,
   "id": "24cf36f1",
   "metadata": {},
   "outputs": [
    {
     "name": "stdout",
     "output_type": "stream",
     "text": [
      "[[17 20]\n",
      " [47 56]]\n"
     ]
    }
   ],
   "source": [
    "# 2.Write a Python Program to Multiply Two Matrices?\n",
    "import numpy as np\n",
    "\n",
    "m1 = np.array([[1,2],[4,5]])\n",
    "\n",
    "m2 = np.array([[3,4],[7,8]])\n",
    "\n",
    "mul = m1@m2\n",
    "\n",
    "print(mul)"
   ]
  },
  {
   "cell_type": "code",
   "execution_count": 26,
   "id": "486689d3",
   "metadata": {},
   "outputs": [
    {
     "name": "stdout",
     "output_type": "stream",
     "text": [
      "Before the Transpose the matrix is [[1 2 3 4 6]]\n",
      " \n",
      "After the Transpose the given  Matrix\n",
      "  [[1]\n",
      " [2]\n",
      " [3]\n",
      " [4]\n",
      " [6]]\n"
     ]
    }
   ],
   "source": [
    "# 3.Write a Python Program to Transpose a Matrix?\n",
    "import numpy as np\n",
    "\n",
    "m1 = np.array([[1,2,3,4,6]])\n",
    "print(f\"Before the Transpose the matrix is {m1}\")\n",
    "print(\" \\nAfter the Transpose the given  Matrix\\n \", m1.T)"
   ]
  },
  {
   "cell_type": "code",
   "execution_count": 10,
   "id": "eaf4b18c",
   "metadata": {},
   "outputs": [
    {
     "name": "stdout",
     "output_type": "stream",
     "text": [
      "Enter the Words or Sentence of the stringthis is string\n",
      "ths sorted string is ['is', 'string', 'this']\n"
     ]
    }
   ],
   "source": [
    "# 4.Write a Python Program to Sort Words in Alphabetic Order?\n",
    "x = input(\"Enter the Words or Sentence of the string\")\n",
    "l = x.split(' ') \n",
    "l.sort()\n",
    "\n",
    "print(f\"ths sorted string is {l}\")\n"
   ]
  },
  {
   "cell_type": "code",
   "execution_count": 2,
   "id": "1282cdb4",
   "metadata": {},
   "outputs": [
    {
     "name": "stdout",
     "output_type": "stream",
     "text": [
      "Enter the String of your ChoicePicen kldjsflj $$s lkjsfkjg&& lajsdf\n",
      "The original string is : Picen kldjsflj $$s lkjsfkjg&& lajsdf\n",
      "The string after punctuation filter : Picen kldjsflj s lkjsfkjg lajsdf\n"
     ]
    }
   ],
   "source": [
    "# 5.Write a Python Program to Remove Punctuation From a String?\n",
    "\n",
    "test_str = input(\"Enter the String of your Choice\")\n",
    " \n",
    "print(\"The original string is : \" + test_str)\n",
    " \n",
    "punc = '''!()-[]{};:'\"\\,<>./?@#$%^&*_~'''\n",
    " \n",
    "for ele in test_str:\n",
    "    if ele in punc:\n",
    "        test_str = test_str.replace(ele, \"\")\n",
    " \n",
    "print(\"The string after punctuation filter : \" + test_str)"
   ]
  }
 ],
 "metadata": {
  "kernelspec": {
   "display_name": "Python 3 (ipykernel)",
   "language": "python",
   "name": "python3"
  },
  "language_info": {
   "codemirror_mode": {
    "name": "ipython",
    "version": 3
   },
   "file_extension": ".py",
   "mimetype": "text/x-python",
   "name": "python",
   "nbconvert_exporter": "python",
   "pygments_lexer": "ipython3",
   "version": "3.8.5"
  }
 },
 "nbformat": 4,
 "nbformat_minor": 5
}
