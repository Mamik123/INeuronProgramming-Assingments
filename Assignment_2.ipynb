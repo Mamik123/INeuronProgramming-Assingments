{
 "cells": [
  {
   "cell_type": "code",
   "execution_count": 4,
   "metadata": {},
   "outputs": [
    {
     "name": "stdout",
     "output_type": "stream",
     "text": [
      "Enter value in kilometers: 3.40\n",
      "The Values in Km 2.1124199999999997 :: \n"
     ]
    }
   ],
   "source": [
    "## 1.\tWrite a Python program to convert kilometers to miles?\n",
    "conv_fac = 0.6213\n",
    "km = float(input(\"Enter value in kilometers: \"))\n",
    "\n",
    "miles = km*conv_fac\n",
    "print(\"The Values in Km {} :: \".format(miles))\n",
    "\n",
    "\n"
   ]
  },
  {
   "cell_type": "code",
   "execution_count": 5,
   "metadata": {},
   "outputs": [
    {
     "name": "stdout",
     "output_type": "stream",
     "text": [
      "Enter the Value of Celsius37.5\n",
      "The Value of Fahrenheit 99.5\n"
     ]
    }
   ],
   "source": [
    "## 2.\tWrite a Python program to convert Celsius to Fahrenheit?\n",
    "\n",
    "celsius = float(input(\"Enter the Value of Celsius\"))\n",
    "\n",
    "fahrenheit = (celsius*1.8)+32\n",
    "print(\"The Value of Fahrenheit {}\".format(fahrenheit))"
   ]
  },
  {
   "cell_type": "code",
   "execution_count": 8,
   "metadata": {
    "scrolled": true
   },
   "outputs": [
    {
     "name": "stdout",
     "output_type": "stream",
     "text": [
      "Enter Year9099\n",
      "Enter Month3\n",
      "     March 9099\n",
      "Mo Tu We Th Fr Sa Su\n",
      "       1  2  3  4  5\n",
      " 6  7  8  9 10 11 12\n",
      "13 14 15 16 17 18 19\n",
      "20 21 22 23 24 25 26\n",
      "27 28 29 30 31\n",
      "\n"
     ]
    }
   ],
   "source": [
    "## 3.\tWrite a Python program to display calendar?\n",
    "import calendar as cl\n",
    "year = int(input(\"Enter Year \"))\n",
    "month = int(input(\"Enter Month \"))\n",
    "\n",
    "print(cl.month(year,month))"
   ]
  },
  {
   "cell_type": "code",
   "execution_count": null,
   "metadata": {},
   "outputs": [],
   "source": []
  },
  {
   "cell_type": "code",
   "execution_count": 10,
   "metadata": {},
   "outputs": [
    {
     "name": "stdout",
     "output_type": "stream",
     "text": [
      "Befor Swapping the Value of 6 and 9\n",
      "After Swapping the Value of 9 and 6\n"
     ]
    }
   ],
   "source": [
    "## 5.\tWrite a Python program to swap two variables without temp variable?\n",
    "\n",
    "a=6\n",
    "b=9\n",
    "print(\"Befor Swapping the Value of {} and {}\".format(a,b))\n",
    "a,b=b,a\n",
    "\n",
    "print(\"After Swapping the Value of {} and {}\".format(a,b))"
   ]
  },
  {
   "cell_type": "code",
   "execution_count": null,
   "metadata": {},
   "outputs": [],
   "source": []
  }
 ],
 "metadata": {
  "kernelspec": {
   "display_name": "Python 3",
   "language": "python",
   "name": "python3"
  },
  "language_info": {
   "codemirror_mode": {
    "name": "ipython",
    "version": 3
   },
   "file_extension": ".py",
   "mimetype": "text/x-python",
   "name": "python",
   "nbconvert_exporter": "python",
   "pygments_lexer": "ipython3",
   "version": "3.8.5"
  }
 },
 "nbformat": 4,
 "nbformat_minor": 4
}
