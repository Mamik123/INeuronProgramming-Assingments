{
 "cells": [
  {
   "cell_type": "code",
   "execution_count": 1,
   "metadata": {},
   "outputs": [
    {
     "data": {
      "text/plain": [
       "'\\n1.\\tWrite a Python program to print \"Hello Python\"?\\n\\nprint(\"Hello Python\")\\n'"
      ]
     },
     "execution_count": 1,
     "metadata": {},
     "output_type": "execute_result"
    }
   ],
   "source": [
    "\"\"\"\n",
    "1.\tWrite a Python program to print \"Hello Python\"?\n",
    "Ans::\n",
    "\n",
    "print(\"Hello Python\")\n",
    "\"\"\""
   ]
  },
  {
   "cell_type": "code",
   "execution_count": 2,
   "metadata": {},
   "outputs": [
    {
     "data": {
      "text/plain": [
       "'\\n2.\\tWrite a Python program to do arithmetical operations addition and division.?\\n\\n5+3\\n6/3\\n'"
      ]
     },
     "execution_count": 2,
     "metadata": {},
     "output_type": "execute_result"
    }
   ],
   "source": [
    "\"\"\"\n",
    "2.\tWrite a Python program to do arithmetical operations addition and division.?\n",
    "Ans::\n",
    "\n",
    "5+3\n",
    "6/3\n",
    "\"\"\""
   ]
  },
  {
   "cell_type": "code",
   "execution_count": 4,
   "metadata": {},
   "outputs": [
    {
     "data": {
      "text/plain": [
       "'\\n3.\\tWrite a Python program to find the area of a triangle?\\nAns::\\na = 5\\nb = 6\\nc = 7\\ns = (a + b + c) / 2\\narea = (s*(s-a)*(s-b)*(s-c)) ** 0.5\\n\\nprint(\"The Area of triangle is ==:: \",area)\\n\\n'"
      ]
     },
     "execution_count": 4,
     "metadata": {},
     "output_type": "execute_result"
    }
   ],
   "source": [
    "\"\"\"\n",
    "3.\tWrite a Python program to find the area of a triangle?\n",
    "Ans::\n",
    "a = 5\n",
    "b = 6\n",
    "c = 7\n",
    "s = (a + b + c) / 2\n",
    "area = (s*(s-a)*(s-b)*(s-c)) ** 0.5\n",
    "\n",
    "print(\"The Area of triangle is ==:: \",area)\n",
    "\n",
    "\"\"\""
   ]
  },
  {
   "cell_type": "code",
   "execution_count": 7,
   "metadata": {},
   "outputs": [
    {
     "data": {
      "text/plain": [
       "'\\n4.\\tWrite a Python program to swap two variables?\\nAns::\\n\\na=5\\nb=9\\n\\na,b=b,a\\n\\n'"
      ]
     },
     "execution_count": 7,
     "metadata": {},
     "output_type": "execute_result"
    }
   ],
   "source": [
    "\"\"\"\n",
    "4.\tWrite a Python program to swap two variables?\n",
    "Ans::\n",
    "\n",
    "a=5\n",
    "b=9\n",
    "\n",
    "a,b=b,a\n",
    "\n",
    "\"\"\"\n"
   ]
  },
  {
   "cell_type": "code",
   "execution_count": 10,
   "metadata": {},
   "outputs": [
    {
     "data": {
      "text/plain": [
       "'\\n5.\\tWrite a Python program to generate a random number?\\n\\nAns::\\nimport random\\n\\nprint(random.randint(0,9))\\n\\n'"
      ]
     },
     "execution_count": 10,
     "metadata": {},
     "output_type": "execute_result"
    }
   ],
   "source": [
    "\"\"\"\n",
    "5.\tWrite a Python program to generate a random number?\n",
    "\n",
    "Ans::\n",
    "import random\n",
    "\n",
    "print(random.randint(0,9))\n",
    "\n",
    "\"\"\"\n"
   ]
  }
 ],
 "metadata": {
  "kernelspec": {
   "display_name": "Python 3",
   "language": "python",
   "name": "python3"
  },
  "language_info": {
   "codemirror_mode": {
    "name": "ipython",
    "version": 3
   },
   "file_extension": ".py",
   "mimetype": "text/x-python",
   "name": "python",
   "nbconvert_exporter": "python",
   "pygments_lexer": "ipython3",
   "version": "3.8.5"
  }
 },
 "nbformat": 4,
 "nbformat_minor": 4
}
