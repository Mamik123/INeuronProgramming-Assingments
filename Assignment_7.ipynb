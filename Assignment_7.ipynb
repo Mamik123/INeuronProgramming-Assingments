{
 "cells": [
  {
   "cell_type": "code",
   "execution_count": 4,
   "id": "4edb1059",
   "metadata": {},
   "outputs": [
    {
     "name": "stdout",
     "output_type": "stream",
     "text": [
      "15\n"
     ]
    }
   ],
   "source": [
    "# 1. Write a Python Program to find sum of array?\n",
    "a = [1,2,3,4,5]\n",
    "print(sum(a))"
   ]
  },
  {
   "cell_type": "code",
   "execution_count": 11,
   "id": "992da83d",
   "metadata": {},
   "outputs": [
    {
     "data": {
      "text/plain": [
       "9"
      ]
     },
     "execution_count": 11,
     "metadata": {},
     "output_type": "execute_result"
    }
   ],
   "source": [
    "# 2. Write a Python Program to find largest element in an array?\n",
    "a = [2,7,3,1,9]\n",
    "print(max(a))"
   ]
  },
  {
   "cell_type": "code",
   "execution_count": 12,
   "id": "e6a1e503",
   "metadata": {},
   "outputs": [
    {
     "name": "stdout",
     "output_type": "stream",
     "text": [
      "[8, 3, 2, 3, 7, 6]\n"
     ]
    }
   ],
   "source": [
    "# 3.Write a Python Program for array rotation?\n",
    "a = [6,7,3,2,3,8]\n",
    "print(a[::-1])"
   ]
  },
  {
   "cell_type": "code",
   "execution_count": 24,
   "id": "f4abc73b",
   "metadata": {},
   "outputs": [
    {
     "name": "stdout",
     "output_type": "stream",
     "text": [
      "[2, 8, 3, 7]\n"
     ]
    }
   ],
   "source": [
    "# 4.Write a Python Program to Split the array and add the first part to the end?\n",
    "a= [3,7,2,8]\n",
    "x = len(a)\n",
    "pos = x//2\n",
    "nl = []\n",
    "\n",
    "for x in range(pos,len(a)):\n",
    "    nl.append(a[x])\n",
    "    \n",
    "for x in range(0,pos):\n",
    "    nl.append(a[x])\n",
    "    \n",
    "print(nl)\n",
    "    \n"
   ]
  },
  {
   "cell_type": "code",
   "execution_count": 57,
   "id": "764c767e",
   "metadata": {},
   "outputs": [],
   "source": [
    "# 5.Write a Python Program to check if given array is Monotonic?\n",
    "\n",
    "import logging as lg\n",
    "lg.basicConfig(filename = 'tes1.log',level=lg.DEBUG)\n",
    "\n",
    "def montonic(a):\n",
    "    for x in range(len(a)-1):\n",
    "        if (a[x] <= a[x+1]):\n",
    "            temp=True\n",
    "            count=x\n",
    "        else:\n",
    "            temp= False\n",
    "            break\n",
    "    b = a[::-1]\n",
    "    for x in range(len(b)-1):\n",
    "        if b[x]>=b[x+1]:\n",
    "            temp1=True\n",
    "        else:\n",
    "            temp1=False\n",
    "            break\n",
    "    if (temp== True and   temp1==True):\n",
    "        return True\n",
    "    else:\n",
    "        return False\n",
    "try:\n",
    "    a =[1,2,4,'hke',6,7]    \n",
    "    lg.info(str(montonic(a)))\n",
    "except Exception as e:\n",
    "    lg.error(\"Value Should be integer\")\n",
    "\n"
   ]
  }
 ],
 "metadata": {
  "kernelspec": {
   "display_name": "Python 3 (ipykernel)",
   "language": "python",
   "name": "python3"
  },
  "language_info": {
   "codemirror_mode": {
    "name": "ipython",
    "version": 3
   },
   "file_extension": ".py",
   "mimetype": "text/x-python",
   "name": "python",
   "nbconvert_exporter": "python",
   "pygments_lexer": "ipython3",
   "version": "3.8.5"
  }
 },
 "nbformat": 4,
 "nbformat_minor": 5
}
