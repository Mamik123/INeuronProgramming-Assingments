{
 "cells": [
  {
   "cell_type": "code",
   "execution_count": 40,
   "id": "5a234905",
   "metadata": {},
   "outputs": [
    {
     "name": "stdout",
     "output_type": "stream",
     "text": [
      "Enter the Number: 5\n",
      "Factorial of the Given Number is :  120\n"
     ]
    }
   ],
   "source": [
    "# 1.Write a Python Program to Find the Factorial of a Number?\n",
    "\n",
    "x = int(input(\"Enter the Number: \"))\n",
    "fact =1\n",
    "for i in range(1,x+1):\n",
    "    fact = fact*i\n",
    "print(\"Factorial of the Given Number is : \",fact)"
   ]
  },
  {
   "cell_type": "code",
   "execution_count": 70,
   "id": "d2a4494a",
   "metadata": {
    "scrolled": true
   },
   "outputs": [
    {
     "name": "stdout",
     "output_type": "stream",
     "text": [
      "Enter the Number to Display Table 500\n",
      "The Table 500 is given Below \n",
      "1 * 500 = 500\n",
      "2 * 500 = 1000\n",
      "3 * 500 = 1500\n",
      "4 * 500 = 2000\n",
      "5 * 500 = 2500\n",
      "6 * 500 = 3000\n",
      "7 * 500 = 3500\n",
      "8 * 500 = 4000\n",
      "9 * 500 = 4500\n",
      "10 * 500 = 5000\n"
     ]
    }
   ],
   "source": [
    "#2.Write a Python Program to Display the multiplication Table?\n",
    "x = int(input(\"Enter the Number to Display Table \"))\n",
    "print(\"The Table {} is given Below \".format(x))\n",
    "for i in range(1,11):\n",
    "    print(\"{} * {} =\".format(i,x),i*x)"
   ]
  },
  {
   "cell_type": "code",
   "execution_count": 17,
   "id": "10527afc",
   "metadata": {},
   "outputs": [
    {
     "name": "stdout",
     "output_type": "stream",
     "text": [
      "Enter the Number to get the Fibonacci Sequence7\n",
      "Febonaaci Series :  0 1 1 2 3 5 8 13 21 "
     ]
    }
   ],
   "source": [
    "# 3.Write a Python Program to Print the Fibonacci sequence\n",
    "\n",
    "a=0\n",
    "b=1\n",
    "x = int(input(\"Enter the Number to get the Fibonacci Sequence\"))\n",
    "print(\"Febonaaci Series : \",a,b,end=' ')\n",
    "for i in range(x):\n",
    "    c=a+b\n",
    "    print(c,end=' ')\n",
    "    a=b\n",
    "    b=c    "
   ]
  },
  {
   "cell_type": "code",
   "execution_count": 72,
   "id": "169bd8f7",
   "metadata": {
    "scrolled": true
   },
   "outputs": [
    {
     "name": "stdout",
     "output_type": "stream",
     "text": [
      "Enter the Number of Your Choice: 125\n",
      "Not Armstrong\n"
     ]
    }
   ],
   "source": [
    "# 4.Write a Python Program to Check Armstrong Number?\n",
    "\n",
    "x = int(input(\"Enter the Number of Your Choice: \"))\n",
    "a=x\n",
    "cub=0\n",
    "while(x>0):\n",
    "    temp = x%10\n",
    "    cub = cub + (temp*temp*temp)\n",
    "    x=x//10\n",
    "    \n",
    "if a==cub:\n",
    "    print(\"Armstrong\")\n",
    "else:\n",
    "    print(\"Not Armstrong\")"
   ]
  },
  {
   "cell_type": "code",
   "execution_count": 71,
   "id": "04254ad2",
   "metadata": {},
   "outputs": [
    {
     "name": "stdout",
     "output_type": "stream",
     "text": [
      "Enter the Number of your Choice 500\n",
      "All Armstrongs Numbers Are : [1, 153, 370, 407]\n"
     ]
    }
   ],
   "source": [
    "# 5.Write a Python Program to Find Armstrong Number in an Interval?\n",
    "x = int(input(\"Enter the Number of your Choice \"))\n",
    "cub=0\n",
    "l=[]\n",
    "for i in range(1,x+1):\n",
    "    j=i\n",
    "    while(j!=0):\n",
    "        temp=j%10\n",
    "        cub=cub+(temp*temp*temp)\n",
    "        j=j//10\n",
    "    if cub==i:\n",
    "        l.append(cub)\n",
    "    else:\n",
    "        cub=0\n",
    "        \n",
    "print(\"All Armstrongs Numbers Are :\",l)\n"
   ]
  },
  {
   "cell_type": "code",
   "execution_count": 69,
   "id": "c8288daa",
   "metadata": {},
   "outputs": [
    {
     "name": "stdout",
     "output_type": "stream",
     "text": [
      "Enter the Upper Limit of Natural Number25\n",
      "The Sum till Entered Number is :  325\n"
     ]
    }
   ],
   "source": [
    "# 6.Write a Python Program to Find the Sum of Natural Numbers?\n",
    "\n",
    "x = int(input(\"Enter the Upper Limit of Natural Number\"))\n",
    "sum=0\n",
    "for i in range(1,x+1):\n",
    "    sum = sum + i\n",
    "print(\"The Sum till Entered Number is : \",sum)\n",
    "    "
   ]
  },
  {
   "cell_type": "code",
   "execution_count": null,
   "id": "c7afed14",
   "metadata": {},
   "outputs": [],
   "source": []
  },
  {
   "cell_type": "code",
   "execution_count": null,
   "id": "605041c8",
   "metadata": {},
   "outputs": [],
   "source": []
  },
  {
   "cell_type": "code",
   "execution_count": null,
   "id": "1965b9f3",
   "metadata": {},
   "outputs": [],
   "source": []
  },
  {
   "cell_type": "code",
   "execution_count": null,
   "id": "cb3da9f4",
   "metadata": {},
   "outputs": [],
   "source": []
  },
  {
   "cell_type": "code",
   "execution_count": null,
   "id": "3bc8bb50",
   "metadata": {},
   "outputs": [],
   "source": []
  },
  {
   "cell_type": "code",
   "execution_count": null,
   "id": "00047c2d",
   "metadata": {},
   "outputs": [],
   "source": []
  },
  {
   "cell_type": "code",
   "execution_count": null,
   "id": "23ea3fe3",
   "metadata": {},
   "outputs": [],
   "source": []
  },
  {
   "cell_type": "code",
   "execution_count": null,
   "id": "719752a3",
   "metadata": {},
   "outputs": [],
   "source": []
  },
  {
   "cell_type": "code",
   "execution_count": null,
   "id": "f37f2470",
   "metadata": {},
   "outputs": [],
   "source": []
  },
  {
   "cell_type": "code",
   "execution_count": null,
   "id": "704f8d51",
   "metadata": {},
   "outputs": [],
   "source": []
  },
  {
   "cell_type": "code",
   "execution_count": null,
   "id": "9ef207d9",
   "metadata": {},
   "outputs": [],
   "source": []
  }
 ],
 "metadata": {
  "kernelspec": {
   "display_name": "Python 3 (ipykernel)",
   "language": "python",
   "name": "python3"
  },
  "language_info": {
   "codemirror_mode": {
    "name": "ipython",
    "version": 3
   },
   "file_extension": ".py",
   "mimetype": "text/x-python",
   "name": "python",
   "nbconvert_exporter": "python",
   "pygments_lexer": "ipython3",
   "version": "3.8.5"
  }
 },
 "nbformat": 4,
 "nbformat_minor": 5
}
