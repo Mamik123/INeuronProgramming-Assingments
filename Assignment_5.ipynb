{
 "cells": [
  {
   "cell_type": "code",
   "execution_count": 22,
   "id": "eec8bcac",
   "metadata": {},
   "outputs": [
    {
     "name": "stdout",
     "output_type": "stream",
     "text": [
      "Enter the first number 15\n",
      "Enter the Second Number 20\n",
      "The LCM of 2 Given Number is :  60\n"
     ]
    }
   ],
   "source": [
    "### 1.Write a Python Program to Find LCM?\n",
    "\n",
    "n1 = int(input(\"Enter the first number \"))\n",
    "n2 = int(input(\"Enter the Second Number \"))\n",
    "\n",
    "def lcm_2(n1,n2):\n",
    "    if n1>n2:\n",
    "        big=n1\n",
    "    else:\n",
    "        big=n2\n",
    "    while(True):\n",
    "        if((big%n1==0) and (big%n2==0)):\n",
    "            lcm=big\n",
    "            break\n",
    "        big+=1\n",
    "    return lcm\n",
    "\n",
    "\n",
    "print(\"The LCM of 2 Given Number is : \",lcm_2(n1,n2))\n",
    "\n"
   ]
  },
  {
   "cell_type": "code",
   "execution_count": 44,
   "id": "a1593be5",
   "metadata": {},
   "outputs": [
    {
     "name": "stdout",
     "output_type": "stream",
     "text": [
      "Enter the first number 36\n",
      "Enter the Second Number 48\n",
      "Highest Common Factore is :  12\n"
     ]
    }
   ],
   "source": [
    "#2.Write a Python Program to Find HCF?    \n",
    "n1 = int(input(\"Enter the first number \"))\n",
    "n2 = int(input(\"Enter the Second Number \"))\n",
    "l1=[]\n",
    "l2=[]\n",
    "def hcf_2(n1,n2):\n",
    "    for i in range(1,n1):\n",
    "        if (n1%i==0):\n",
    "            l1.append(i)\n",
    "    for j in range(1,n2):\n",
    "        if (n2%j==0):\n",
    "            l2.append(j)    \n",
    "    set1 = set(l1)\n",
    "    set2=  set(l2)\n",
    "    if (set1 & set2):\n",
    "        return max(set1 & set2)\n",
    "        \n",
    "print(\"Highest Common Factore is : \",hcf_2(n1,n2))\n"
   ]
  },
  {
   "cell_type": "code",
   "execution_count": 65,
   "id": "f2db22c8",
   "metadata": {},
   "outputs": [
    {
     "name": "stdout",
     "output_type": "stream",
     "text": [
      "Enter the Decimal Number897\n",
      "[1, 1, 1, 0, 0, 0, 0, 0, 0, 1]\n"
     ]
    }
   ],
   "source": [
    "#3.\tWrite a Python Program to Convert Decimal to Binary, Octal and Hexadecimal?\n",
    "x = int(input(\"Enter the Decimal Number\"))\n",
    "num=[]\n",
    "flag=True\n",
    "\n",
    "while(True):\n",
    "    if x!=0:\n",
    "        if (x%2==0):\n",
    "            num.append(0)\n",
    "            x=x/2\n",
    "        else:\n",
    "            num.append(1)\n",
    "            x=x//2\n",
    "    else:\n",
    "        break\n",
    "        \n",
    "print(num[::-1])      "
   ]
  },
  {
   "cell_type": "code",
   "execution_count": 64,
   "id": "03970944",
   "metadata": {},
   "outputs": [
    {
     "name": "stdout",
     "output_type": "stream",
     "text": [
      "Enter the Octal Number: 12243\n",
      "\n",
      "Equivalent Hexadecimal Value = 14A3\n"
     ]
    }
   ],
   "source": [
    "#  Octal and Hexadecimal\n",
    "print(\"Enter the Octal Number: \", end=\"\")\n",
    "onum = int(input())\n",
    "\n",
    "chk = i = dnum = 0\n",
    "while onum!=0:\n",
    "    rem = onum % 10\n",
    "    if rem>7:\n",
    "        chk = 1\n",
    "        break\n",
    "    dnum = dnum + (rem * (8 ** i))\n",
    "    i = i+1\n",
    "    onum = int(onum / 10)\n",
    "\n",
    "if chk == 0:\n",
    "    hnum = \"\"\n",
    "    while dnum != 0:\n",
    "        rem = dnum % 16\n",
    "        if rem < 10:\n",
    "            rem = rem + 48\n",
    "        else:\n",
    "            rem = rem + 55\n",
    "        rem = chr(rem)\n",
    "        hnum = hnum + rem\n",
    "        dnum = int(dnum / 16)\n",
    "    hnum = hnum[::-1]\n",
    "    print(\"\\nEquivalent Hexadecimal Value =\", hnum)\n",
    "\n",
    "else:\n",
    "    print(\"\\nInvalid Input!\")"
   ]
  },
  {
   "cell_type": "code",
   "execution_count": null,
   "id": "bc724292",
   "metadata": {},
   "outputs": [],
   "source": []
  },
  {
   "cell_type": "code",
   "execution_count": null,
   "id": "d4aed4d4",
   "metadata": {},
   "outputs": [],
   "source": []
  },
  {
   "cell_type": "code",
   "execution_count": null,
   "id": "87adbf14",
   "metadata": {},
   "outputs": [],
   "source": []
  },
  {
   "cell_type": "code",
   "execution_count": null,
   "id": "d82df573",
   "metadata": {},
   "outputs": [],
   "source": []
  },
  {
   "cell_type": "code",
   "execution_count": null,
   "id": "ed880d6b",
   "metadata": {},
   "outputs": [],
   "source": []
  },
  {
   "cell_type": "code",
   "execution_count": null,
   "id": "9a27e79a",
   "metadata": {},
   "outputs": [],
   "source": []
  }
 ],
 "metadata": {
  "kernelspec": {
   "display_name": "Python 3 (ipykernel)",
   "language": "python",
   "name": "python3"
  },
  "language_info": {
   "codemirror_mode": {
    "name": "ipython",
    "version": 3
   },
   "file_extension": ".py",
   "mimetype": "text/x-python",
   "name": "python",
   "nbconvert_exporter": "python",
   "pygments_lexer": "ipython3",
   "version": "3.8.5"
  }
 },
 "nbformat": 4,
 "nbformat_minor": 5
}
