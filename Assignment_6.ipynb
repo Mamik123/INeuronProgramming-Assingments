{
 "cells": [
  {
   "cell_type": "code",
   "execution_count": null,
   "id": "de7c43ef",
   "metadata": {},
   "outputs": [],
   "source": [
    "# 1.8Write a Python Program to Display Fibonacci Sequence Using Recursion?\n",
    "import logging as lg\n",
    "lg.basicConfig(filename='zest.log',level=lg.DEBUG,format='%(asctime)s %(levelname)s %(message)s')\n",
    "\n",
    "def fibx(n):\n",
    "    if n<=1:\n",
    "        return n\n",
    "    else:\n",
    "        return(fibx(n-1) + fibx(n-2))\n",
    "try:\n",
    "    count=int(input(\"Enter the Value for Feb Series: \"))\n",
    "    lg.info(count)\n",
    "    \n",
    "except Exception as e:\n",
    "    lg.warning(\"Wrong Value\")\n",
    "\n",
    "\n",
    "if count<=0:\n",
    "    lg.info(\"Enter the +ve Number\")\n",
    "else:\n",
    "    lg.info(\"Fib Series\")\n",
    "    for i in range(count):\n",
    "        lg.info(fibx(i))"
   ]
  },
  {
   "cell_type": "code",
   "execution_count": 28,
   "id": "8387f54c",
   "metadata": {},
   "outputs": [
    {
     "name": "stdout",
     "output_type": "stream",
     "text": [
      "Enter the value5\n",
      "120\n"
     ]
    }
   ],
   "source": [
    "# 2.Write a Python Program to Find Factorial of Number Using Recursion?\n",
    "import logging as lg\n",
    "lg.basicConfig(filename='test.log',level=lg.DEBUG,format='%(asctime)s %(levelname)s %(message)s')\n",
    "\n",
    "def  faact(n):\n",
    "    if n==1:\n",
    "        return n\n",
    "    else:\n",
    "        return n*faact(n-1)\n",
    "\n",
    "try:\n",
    "    n = int(input(\"Enter the value\"))\n",
    "    \n",
    "except Exception as e:\n",
    "    lg.error(\"Enter the Digit\")\n",
    "\n",
    "if n<0:\n",
    "    lg.info(\"Enter the +ve Number\")\n",
    "elif n==0:\n",
    "    lg.info(\"Factorial is 1\")\n",
    "else:\n",
    "    lg.info(\"Factorial Number \")\n",
    "    print(faact(n))\n"
   ]
  },
  {
   "cell_type": "code",
   "execution_count": 33,
   "id": "d8429ef5",
   "metadata": {},
   "outputs": [
    {
     "name": "stdout",
     "output_type": "stream",
     "text": [
      "Enter the Height 5.6\n",
      "Enter the Weight 60\n"
     ]
    }
   ],
   "source": [
    "# 3.Write a Python Program to calculate your Body Mass Index?\n",
    "\n",
    "import logging as lg\n",
    "lg.basicConfig(filename='test.log',level=lg.DEBUG,format='%(asctime)s %(levelname)s %(message)s')\n",
    "\n",
    "try:\n",
    "    height = float(input(\"Enter the Height \"))\n",
    "\n",
    "    weight = float(input(\"Enter the Weight \"))\n",
    "\n",
    "except Exception as e:\n",
    "    lg.info(\"Enter the Correct Values\")\n",
    "\n",
    "BMI = round(weight/(height*height),2)\n",
    "\n",
    "lg.info(BMI)\n"
   ]
  },
  {
   "cell_type": "code",
   "execution_count": 106,
   "id": "5f20f09f",
   "metadata": {},
   "outputs": [
    {
     "data": {
      "text/plain": [
       "2.302585092994046"
      ]
     },
     "execution_count": 106,
     "metadata": {},
     "output_type": "execute_result"
    }
   ],
   "source": [
    "#4.\tWrite a Python Program to calculate the natural logarithm of any number?\n",
    "import math\n",
    "math.log(10)\n"
   ]
  },
  {
   "cell_type": "code",
   "execution_count": 103,
   "id": "dcc5d9fd",
   "metadata": {},
   "outputs": [
    {
     "name": "stdout",
     "output_type": "stream",
     "text": [
      "Enter the Number3\n",
      "The Sum of the Cubes  9\n"
     ]
    }
   ],
   "source": [
    "#5.\tWrite a Python Program for cube sum of first n natural numbers?\n",
    "n= int(input(\"Enter the Number \"))\n",
    "sum=0\n",
    "for x in range(n):\n",
    "    sum = sum + (x*x*x)\n",
    "#     print(x*x*x)\n",
    "\n",
    "print(\"The Sum of the Cubes \",sum)"
   ]
  }
 ],
 "metadata": {
  "kernelspec": {
   "display_name": "Python 3 (ipykernel)",
   "language": "python",
   "name": "python3"
  },
  "language_info": {
   "codemirror_mode": {
    "name": "ipython",
    "version": 3
   },
   "file_extension": ".py",
   "mimetype": "text/x-python",
   "name": "python",
   "nbconvert_exporter": "python",
   "pygments_lexer": "ipython3",
   "version": "3.8.5"
  }
 },
 "nbformat": 4,
 "nbformat_minor": 5
}
